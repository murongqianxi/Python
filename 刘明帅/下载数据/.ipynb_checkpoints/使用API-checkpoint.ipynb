{
 "cells": [
  {
   "cell_type": "code",
   "execution_count": null,
   "metadata": {
    "colab": {
     "base_uri": "https://localhost:8080/"
    },
    "id": "qdlRnrB061LT",
    "outputId": "3a82e993-a175-465a-ae26-46c830f9c8d0"
   },
   "outputs": [
    {
     "name": "stdout",
     "output_type": "stream",
     "text": [
      "Status code: 200\n",
      "dict_keys(['total_count', 'incomplete_results', 'items'])\n",
      "Total repositories: 6462261\n"
     ]
    }
   ],
   "source": [
    "import requests\n",
    "import pygal\n",
    "from pygal.style import LightColorizedStyle as LCS, LightenStyle as LS\n",
    "url = 'https://api.github.com/search/repositories?q=language:python&sort=stars'\n",
    "r = requests.get(url)\n",
    "print(\"Status code:\", r.status_code)\n",
    "response_dict = r.json()\n",
    "print(response_dict.keys())\n",
    "print('Total repositories:', response_dict['total_count'])\n",
    "repo_dicts = response_dict['items']\n",
    "names, stars = [], []\n",
    "for repo_dict in repo_dicts:\n",
    "  names.append(repo_dict['name'])\n",
    "  stars.append(repo_dict['stargazers_count'])\n",
    "my_style = LS('#333366', base_style = LCS)\n",
    "chart = pygal.Bar(style = my_style, x_label_rotation = 45, show_legend = False)\n",
    "chart.title = 'Most-Starred Python Projects on GitHub'\n",
    "chart.x_labels = names\n",
    "chart.add('', stars)\n",
    "chart.render_to_file('python_repos.svg')"
   ]
  },
  {
   "cell_type": "code",
   "execution_count": null,
   "metadata": {
    "id": "mu7l4PvtI7rb"
   },
   "outputs": [],
   "source": [
    "!pip install pygal"
   ]
  }
 ],
 "metadata": {
  "colab": {
   "name": "使用API",
   "provenance": []
  },
  "kernelspec": {
   "display_name": "Python 3",
   "language": "python",
   "name": "python3"
  },
  "language_info": {
   "codemirror_mode": {
    "name": "ipython",
    "version": 3
   },
   "file_extension": ".py",
   "mimetype": "text/x-python",
   "name": "python",
   "nbconvert_exporter": "python",
   "pygments_lexer": "ipython3",
   "version": "3.8.2"
  }
 },
 "nbformat": 4,
 "nbformat_minor": 1
}
