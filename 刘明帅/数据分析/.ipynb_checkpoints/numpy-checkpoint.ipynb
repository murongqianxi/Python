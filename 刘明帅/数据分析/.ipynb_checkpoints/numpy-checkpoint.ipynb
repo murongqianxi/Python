{
 "cells": [
  {
   "cell_type": "code",
   "execution_count": null,
   "metadata": {
    "id": "d5SZwvrIQuxn"
   },
   "outputs": [],
   "source": [
    "import numpy as np"
   ]
  },
  {
   "cell_type": "code",
   "execution_count": null,
   "metadata": {
    "id": "jW-c4R-FS2AC"
   },
   "outputs": [],
   "source": [
    "arr1 = np.array([1,2,3,4])\n",
    "print(arr1)"
   ]
  },
  {
   "cell_type": "code",
   "execution_count": null,
   "metadata": {
    "id": "I7pc62rERq3e"
   },
   "outputs": [],
   "source": [
    "arr2 = np.array([[1,2,3,4],[5,5,6,7]])\n",
    "print(arr2)"
   ]
  },
  {
   "cell_type": "code",
   "execution_count": null,
   "metadata": {
    "id": "uKNbCKj6SK3J"
   },
   "outputs": [],
   "source": [
    "arr3 = np.arange(5)\n",
    "print(arr3)"
   ]
  },
  {
   "cell_type": "code",
   "execution_count": null,
   "metadata": {
    "id": "q6JAy1rsS0Ll"
   },
   "outputs": [],
   "source": [
    "arr4 = np.array([np.arange(3),np.arange(3)])\n",
    "print(arr4)"
   ]
  },
  {
   "cell_type": "code",
   "execution_count": null,
   "metadata": {
    "id": "Y7OjTTevS7zU"
   },
   "outputs": [],
   "source": [
    "arr5 = np.arange(24).reshape(2,3,4)\n",
    "print(arr5)"
   ]
  },
  {
   "cell_type": "code",
   "execution_count": null,
   "metadata": {
    "id": "EjsDMVHgTqkL"
   },
   "outputs": [],
   "source": [
    "print(np.int8(12.334))\n",
    "print(np.float64(12))\n",
    "print(np.float(True))\n",
    "print(bool(1))"
   ]
  },
  {
   "cell_type": "code",
   "execution_count": null,
   "metadata": {
    "id": "cJGxeHzKUQIE"
   },
   "outputs": [],
   "source": [
    "a = np.arange(5, dtype = float)\n",
    "print(a)"
   ]
  },
  {
   "cell_type": "markdown",
   "metadata": {
    "id": "-GZtVzg5WuTj"
   },
   "source": [
    "ndim属性，数据维度的数量项\n",
    "\n",
    "shape属性,数组对象的尺度,对于矩阵,即n行m列,shape是一个元组(tuple)\n",
    "\n",
    "size属性，用来保存元素的数量，相当于shape中n*m的值\n",
    "\n",
    "itemsize属性，返回数组中各个元素所占用的字节数大小\n",
    "\n",
    "nbytes属性，如果想知道整个数组所需的字节数量，可以使用nbytes属性。其值等于数组的size属性值乘以itemsize属性值"
   ]
  },
  {
   "cell_type": "code",
   "execution_count": null,
   "metadata": {
    "id": "coczRVOpUvA_"
   },
   "outputs": [],
   "source": [
    "b = np.array([[1,2,3],[4,5,6]])\n",
    "print(b.ndim)\n",
    "print(b.shape)\n",
    "print(b.size)\n",
    "print(b.itemsize)\n",
    "print(b.nbytes)"
   ]
  },
  {
   "cell_type": "markdown",
   "metadata": {
    "id": "DZfdsWzRZa5K"
   },
   "source": [
    "T属性，数组转置"
   ]
  },
  {
   "cell_type": "code",
   "execution_count": null,
   "metadata": {
    "id": "w9VUEbS4YsZs"
   },
   "outputs": [],
   "source": [
    "c = np.arange(24).reshape(4,6)\n",
    "print(c)\n",
    "print(c.T)"
   ]
  },
  {
   "cell_type": "markdown",
   "metadata": {
    "id": "hHU56wlzaugG"
   },
   "source": [
    "flat属性，返回一个numpy.flatiter对象，即可迭代的对象。"
   ]
  },
  {
   "cell_type": "code",
   "execution_count": null,
   "metadata": {
    "id": "OZgTxB4aaSYS"
   },
   "outputs": [],
   "source": [
    "d = np.arange(6).reshape(2,3)\n",
    "e = d.flat\n",
    "print(e)\n",
    "for item in e:\n",
    "    print(item)\n",
    "print()\n",
    "print(e[3]) \n",
    "print(e[[2,3]])    # 通过位置索引\n",
    "d.flat = 8\n",
    "print(d)\n",
    "d.flat[[1,4]] = 1\n",
    "print(d)"
   ]
  },
  {
   "cell_type": "code",
   "execution_count": null,
   "metadata": {
    "id": "TyKRu3KFa25B"
   },
   "outputs": [],
   "source": [
    "g = np.arange(7)\n",
    "print(g)\n",
    "print(g[1:4])\n",
    "print(g[:6:2])  # 每间隔两个取一个数"
   ]
  },
  {
   "cell_type": "code",
   "execution_count": null,
   "metadata": {
    "id": "_U5Rhi-ykYfw"
   },
   "outputs": [],
   "source": [
    "h = np.arange(12).reshape(3,4)\n",
    "print(h)\n",
    "print(h[0:3,0:2])\n",
    "print(h[0:2,0:3])"
   ]
  },
  {
   "cell_type": "markdown",
   "metadata": {
    "id": "8Ln4HO_zoT0o"
   },
   "source": [
    "函数resize()的作用跟reshape()类似，但是会改变所作用的数组。"
   ]
  },
  {
   "cell_type": "code",
   "execution_count": null,
   "metadata": {
    "id": "kspQbjRqk8uB"
   },
   "outputs": [],
   "source": [
    "n = np.arange(12).reshape(3,4)\n",
    "print(n.reshape(4,3))\n",
    "print(n)\n",
    "n.resize(4,3)\n",
    "print(n)"
   ]
  },
  {
   "cell_type": "code",
   "execution_count": null,
   "metadata": {
    "id": "QlT2adiEoqsx"
   },
   "outputs": [],
   "source": [
    "m = np.arange(12).reshape(3,4)\n",
    "print(m)\n",
    "print(m.ravel())\n",
    "print(m.flatten())\n",
    "m.flatten()[2] = 20\n",
    "print(m)\n",
    "m.ravel()[2] = 20\n",
    "print(m)"
   ]
  },
  {
   "cell_type": "code",
   "execution_count": null,
   "metadata": {
    "id": "1ZiBOvqsqHtv"
   },
   "outputs": [],
   "source": [
    "z = np.arange(12).reshape(4,3)\n",
    "print(z)\n",
    "z.shape = (2,6)\n",
    "print(z)"
   ]
  },
  {
   "cell_type": "code",
   "execution_count": null,
   "metadata": {
    "id": "PBsoUrk0rC3K"
   },
   "outputs": [],
   "source": [
    "l = np.arange(12).reshape(3,4)\n",
    "print(l)\n",
    "print(l.transpose())"
   ]
  },
  {
   "cell_type": "code",
   "execution_count": null,
   "metadata": {
    "colab": {
     "base_uri": "https://localhost:8080/"
    },
    "id": "UeueOlHurY7f",
    "outputId": "89eaadbe-a039-4ca9-cbf0-3321e07f940c"
   },
   "outputs": [
    {
     "name": "stdout",
     "output_type": "stream",
     "text": [
      "[[ 0  1  2  3]\n",
      " [ 4  5  6  7]\n",
      " [ 8  9 10 11]]\n",
      "[[ 0  2  4  6]\n",
      " [ 8 10 12 14]\n",
      " [16 18 20 22]]\n"
     ]
    }
   ],
   "source": [
    "print(l)\n",
    "k = l * 2\n",
    "print(k)"
   ]
  },
  {
   "cell_type": "code",
   "execution_count": null,
   "metadata": {
    "id": "duEnr-7IrwQN"
   },
   "outputs": [],
   "source": [
    "print(np.hstack((l,k)))\n",
    "print(np.column_stack((l,k)))\n",
    "print(np.vstack((l,k)))\n",
    "print(np.row_stack((l,k)))\n",
    "print(np.concatenate((l,k),axis=1))\n",
    "print(np.concatenate((l,k),axis=0))"
   ]
  },
  {
   "cell_type": "code",
   "execution_count": null,
   "metadata": {
    "id": "WueiFOdAuCGO"
   },
   "outputs": [],
   "source": [
    "v = np.dstack((l,k))\n",
    "print(v.shape)\n",
    "print(v)"
   ]
  },
  {
   "cell_type": "code",
   "execution_count": null,
   "metadata": {
    "id": "nX7nN2Pjudwe"
   },
   "outputs": [],
   "source": [
    "print(np.hsplit(l,2))\n",
    "print(np.split(l,2,axis=1))\n",
    "print(np.vsplit(l,3))\n",
    "print(np.split(l,3,axis=0))"
   ]
  },
  {
   "cell_type": "code",
   "execution_count": null,
   "metadata": {
    "id": "fBJVeEyUxCsV"
   },
   "outputs": [],
   "source": [
    "np.dsplit(v,2)"
   ]
  },
  {
   "cell_type": "code",
   "execution_count": null,
   "metadata": {
    "id": "WNy7IejYx3Vt"
   },
   "outputs": [],
   "source": [
    "print(l)\n",
    "print(l.tolist())\n",
    "print(l.astype(float))"
   ]
  },
  {
   "cell_type": "code",
   "execution_count": null,
   "metadata": {
    "id": "Ph-OMA34yd98"
   },
   "outputs": [],
   "source": [
    "print(l)\n",
    "print(np.max(l))\n",
    "print(np.max(l,axis=1))\n",
    "print(np.max(l,axis=0))\n",
    "print(np.min(l))\n",
    "print(np.ptp(l))\n",
    "print(np.ptp(l,axis=1))\n",
    "print(np.ptp(l,axis=0))"
   ]
  },
  {
   "cell_type": "code",
   "execution_count": null,
   "metadata": {
    "id": "gmzKQOLcz9jk"
   },
   "outputs": [],
   "source": [
    "print(l)\n",
    "print(np.cumsum(l,axis=1))\n",
    "print(np.cumsum(l,axis=0))\n",
    "print(np.cumprod(l,axis=1))\n",
    "print(np.cumprod(l,axis=0))"
   ]
  },
  {
   "cell_type": "code",
   "execution_count": null,
   "metadata": {
    "colab": {
     "base_uri": "https://localhost:8080/"
    },
    "id": "3t3UVpP30rnL",
    "outputId": "be912417-d705-48fa-830c-8c95026068e9"
   },
   "outputs": [
    {
     "name": "stdout",
     "output_type": "stream",
     "text": [
      "[[ 0  1  2  3]\n",
      " [ 4  5  6  7]\n",
      " [ 8  9 10 11]]\n",
      "[[ 2  3  4  5]\n",
      " [ 6  7  8  9]\n",
      " [10 11 12 13]]\n"
     ]
    }
   ],
   "source": [
    "print(l)\n",
    "o = l + 2\n",
    "print(o)"
   ]
  }
 ],
 "metadata": {
  "colab": {
   "name": "Numpy.ipynb",
   "provenance": []
  },
  "kernelspec": {
   "display_name": "Python 3",
   "language": "python",
   "name": "python3"
  },
  "language_info": {
   "codemirror_mode": {
    "name": "ipython",
    "version": 3
   },
   "file_extension": ".py",
   "mimetype": "text/x-python",
   "name": "python",
   "nbconvert_exporter": "python",
   "pygments_lexer": "ipython3",
   "version": "3.8.2"
  }
 },
 "nbformat": 4,
 "nbformat_minor": 1
}
