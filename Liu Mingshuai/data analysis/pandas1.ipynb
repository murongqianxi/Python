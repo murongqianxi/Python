{
 "cells": [
  {
   "cell_type": "code",
   "execution_count": 1,
   "metadata": {},
   "outputs": [],
   "source": [
    "import pandas as pd"
   ]
  },
  {
   "cell_type": "code",
   "execution_count": 2,
   "metadata": {},
   "outputs": [
    {
     "name": "stdout",
     "output_type": "stream",
     "text": [
      "            0  1\n",
      "0  2013-10-24  3\n",
      "1  2013-10-25  4\n"
     ]
    }
   ],
   "source": [
    "df = pd.read_csv('date.csv', header = None)\n",
    "print(df.head(2))"
   ]
  },
  {
   "cell_type": "code",
   "execution_count": 76,
   "metadata": {},
   "outputs": [
    {
     "name": "stdout",
     "output_type": "stream",
     "text": [
      "            number\n",
      "date              \n",
      "2013-10-24       3\n",
      "2013-10-25       4\n",
      "            number\n",
      "date              \n",
      "2017-02-14       6\n",
      "2017-02-22       6\n",
      "(425, 1)\n"
     ]
    }
   ],
   "source": [
    "df.columns = ['date', 'number']\n",
    "df['date'] = pd.to_datetime(df['date'])\n",
    "df = df.set_index('date')\n",
    "print(df.head(2))\n",
    "print(df.tail(2))\n",
    "print(df.shape)"
   ]
  },
  {
   "cell_type": "code",
   "execution_count": 77,
   "metadata": {},
   "outputs": [
    {
     "name": "stdout",
     "output_type": "stream",
     "text": [
      "<class 'pandas.core.frame.DataFrame'>\n",
      "DatetimeIndex(['2013-10-24', '2013-10-25', '2013-10-29', '2013-10-30',\n",
      "               '2013-11-04', '2013-11-06', '2013-11-08', '2013-11-12',\n",
      "               '2013-11-14', '2013-11-25',\n",
      "               ...\n",
      "               '2017-01-03', '2017-01-07', '2017-01-14', '2017-01-17',\n",
      "               '2017-01-23', '2017-01-25', '2017-01-26', '2017-02-07',\n",
      "               '2017-02-14', '2017-02-22'],\n",
      "              dtype='datetime64[ns]', name='date', length=425, freq=None)\n",
      "<class 'pandas.core.indexes.datetimes.DatetimeIndex'>\n"
     ]
    }
   ],
   "source": [
    "print(type(df))\n",
    "print(df.index)\n",
    "print(type(df.index))"
   ]
  },
  {
   "cell_type": "code",
   "execution_count": 78,
   "metadata": {},
   "outputs": [
    {
     "name": "stdout",
     "output_type": "stream",
     "text": [
      "<class 'pandas.core.series.Series'>\n"
     ]
    },
    {
     "data": {
      "text/plain": [
       "date\n",
       "2013-10-24    3\n",
       "2013-10-25    4\n",
       "Name: number, dtype: int64"
      ]
     },
     "execution_count": 78,
     "metadata": {},
     "output_type": "execute_result"
    }
   ],
   "source": [
    "s = pd.Series(df['number'], index = df.index)\n",
    "print(type(s))\n",
    "s.head(2)"
   ]
  },
  {
   "cell_type": "code",
   "execution_count": 79,
   "metadata": {},
   "outputs": [
    {
     "name": "stdout",
     "output_type": "stream",
     "text": [
      "--------- 获 取 2013 年 的 数 据 -----------\n",
      "            number\n",
      "date              \n",
      "2013-10-24       3\n",
      "2013-10-25       4\n",
      "            number\n",
      "date              \n",
      "2013-12-27       2\n",
      "2013-12-30       2\n"
     ]
    },
    {
     "name": "stderr",
     "output_type": "stream",
     "text": [
      "<ipython-input-79-41ebc5c5eb8c>:2: FutureWarning: Indexing a DataFrame with a datetimelike index using a single string to slice the rows, like `frame[string]`, is deprecated and will be removed in a future version. Use `frame.loc[string]` instead.\n",
      "  print(df['2013'].head(2))\n",
      "<ipython-input-79-41ebc5c5eb8c>:3: FutureWarning: Indexing a DataFrame with a datetimelike index using a single string to slice the rows, like `frame[string]`, is deprecated and will be removed in a future version. Use `frame.loc[string]` instead.\n",
      "  print(df['2013'].tail(2))\n"
     ]
    }
   ],
   "source": [
    "print('--------- 获 取 2013 年 的 数 据 -----------')\n",
    "print(df['2013'].head(2))\n",
    "print(df['2013'].tail(2))"
   ]
  },
  {
   "cell_type": "code",
   "execution_count": 80,
   "metadata": {},
   "outputs": [
    {
     "name": "stdout",
     "output_type": "stream",
     "text": [
      "--------- 获 取 2016 至 2017 年 的 数 据 -----------\n",
      "            number\n",
      "date              \n",
      "2016-01-04       4\n",
      "2016-01-07       6\n",
      "            number\n",
      "date              \n",
      "2017-02-14       6\n",
      "2017-02-22       6\n"
     ]
    }
   ],
   "source": [
    "print('--------- 获 取 2016 至 2017 年 的 数 据 -----------')\n",
    "print(df['2016':'2017'].head(2))\n",
    "print(df['2016':'2017'].tail(2))"
   ]
  },
  {
   "cell_type": "code",
   "execution_count": 81,
   "metadata": {},
   "outputs": [
    {
     "name": "stdout",
     "output_type": "stream",
     "text": [
      "--------- 获 取 某 月 的 数 据 -----------\n",
      "            number\n",
      "date              \n",
      "2013-11-04       1\n",
      "2013-11-06       3\n",
      "2013-11-08       1\n",
      "2013-11-12       5\n",
      "2013-11-14       2\n",
      "2013-11-25       1\n",
      "2013-11-29       1\n"
     ]
    },
    {
     "name": "stderr",
     "output_type": "stream",
     "text": [
      "<ipython-input-81-3d5d3d18c585>:2: FutureWarning: Indexing a DataFrame with a datetimelike index using a single string to slice the rows, like `frame[string]`, is deprecated and will be removed in a future version. Use `frame.loc[string]` instead.\n",
      "  print(df['2013-11'])\n"
     ]
    }
   ],
   "source": [
    "print('--------- 获 取 某 月 的 数 据 -----------')\n",
    "print(df['2013-11'])"
   ]
  },
  {
   "cell_type": "code",
   "execution_count": 82,
   "metadata": {},
   "outputs": [
    {
     "name": "stdout",
     "output_type": "stream",
     "text": [
      "--------- 获 取 具 体 某 天 的 数 据 -----------\n",
      "3\n",
      "            number\n",
      "date              \n",
      "2013-11-06       3\n"
     ]
    }
   ],
   "source": [
    "print('--------- 获 取 具 体 某 天 的 数 据 -----------')\n",
    "print(s['2013-11-06'])\n",
    "print(df['2013-11-06':'2013-11-06'])"
   ]
  },
  {
   "cell_type": "code",
   "execution_count": 83,
   "metadata": {},
   "outputs": [
    {
     "name": "stdout",
     "output_type": "stream",
     "text": [
      "--------- 获 取 某 个 时 期 之 前 或 之 后 的 数 据 -----------\n",
      "--------after------------\n",
      "            number\n",
      "date              \n",
      "2013-10-24       3\n",
      "2013-10-25       4\n",
      "2013-10-29       2\n",
      "2013-10-30       1\n",
      "--------before------------\n",
      "            number\n",
      "date              \n",
      "2017-02-07       8\n",
      "2017-02-14       6\n",
      "2017-02-22       6\n"
     ]
    }
   ],
   "source": [
    "print('--------- 获 取 某 个 时 期 之 前 或 之 后 的 数 据 -----------')\n",
    "print('--------after------------')\n",
    "print(df.truncate(after = '2013-11'))\n",
    "print('--------before------------')\n",
    "print(df.truncate(before = '2017-02'))"
   ]
  },
  {
   "cell_type": "code",
   "execution_count": 84,
   "metadata": {},
   "outputs": [
    {
     "name": "stdout",
     "output_type": "stream",
     "text": [
      "<class 'pandas.core.frame.DataFrame'>\n",
      "<class 'pandas.core.indexes.period.PeriodIndex'>\n",
      "         number\n",
      "date           \n",
      "2013-10       3\n",
      "2013-10       4\n",
      "2013-10       2\n",
      "2013-10       1\n",
      "2013-11       1\n"
     ]
    }
   ],
   "source": [
    "df_period = df.to_period('M')\n",
    "print(type(df_period))\n",
    "print(type(df_period.index))\n",
    "print(df_period.head())"
   ]
  },
  {
   "cell_type": "code",
   "execution_count": 85,
   "metadata": {},
   "outputs": [
    {
     "name": "stdout",
     "output_type": "stream",
     "text": [
      "      number\n",
      "date        \n",
      "2013       3\n",
      "2013       4\n",
      "2013       2\n",
      "2013       1\n",
      "2013       1\n"
     ]
    }
   ],
   "source": [
    "print(df.to_period('A').head())"
   ]
  },
  {
   "cell_type": "code",
   "execution_count": 86,
   "metadata": {},
   "outputs": [
    {
     "data": {
      "text/plain": [
       "PeriodIndex(['2013', '2013', '2013', '2013', '2013', '2013', '2013', '2013',\n",
       "             '2013', '2013',\n",
       "             ...\n",
       "             '2017', '2017', '2017', '2017', '2017', '2017', '2017', '2017',\n",
       "             '2017', '2017'],\n",
       "            dtype='period[A-DEC]', name='date', length=425, freq='A-DEC')"
      ]
     },
     "execution_count": 86,
     "metadata": {},
     "output_type": "execute_result"
    }
   ],
   "source": [
    "df_period.index.asfreq('A')"
   ]
  },
  {
   "cell_type": "code",
   "execution_count": 87,
   "metadata": {},
   "outputs": [
    {
     "data": {
      "text/plain": [
       "PeriodIndex(['2014', '2014', '2014', '2014', '2014', '2014', '2014', '2014',\n",
       "             '2014', '2014',\n",
       "             ...\n",
       "             '2017', '2017', '2017', '2017', '2017', '2017', '2017', '2018',\n",
       "             '2018', '2018'],\n",
       "            dtype='period[A-JAN]', name='date', length=425, freq='A-JAN')"
      ]
     },
     "execution_count": 87,
     "metadata": {},
     "output_type": "execute_result"
    }
   ],
   "source": [
    "df_period.index.asfreq('A-JAN')"
   ]
  },
  {
   "cell_type": "code",
   "execution_count": 88,
   "metadata": {},
   "outputs": [
    {
     "data": {
      "text/plain": [
       "PeriodIndex(['2013Q4', '2013Q4', '2013Q4', '2013Q4', '2013Q4', '2013Q4',\n",
       "             '2013Q4', '2013Q4', '2013Q4', '2013Q4',\n",
       "             ...\n",
       "             '2017Q1', '2017Q1', '2017Q1', '2017Q1', '2017Q1', '2017Q1',\n",
       "             '2017Q1', '2017Q1', '2017Q1', '2017Q1'],\n",
       "            dtype='period[Q-DEC]', name='date', length=425, freq='Q-DEC')"
      ]
     },
     "execution_count": 88,
     "metadata": {},
     "output_type": "execute_result"
    }
   ],
   "source": [
    "df_period.index.asfreq('Q')"
   ]
  },
  {
   "cell_type": "code",
   "execution_count": 89,
   "metadata": {},
   "outputs": [
    {
     "data": {
      "text/plain": [
       "PeriodIndex(['2014Q1', '2014Q1', '2014Q1', '2014Q1', '2014Q1', '2014Q1',\n",
       "             '2014Q1', '2014Q1', '2014Q1', '2014Q1',\n",
       "             ...\n",
       "             '2017Q2', '2017Q2', '2017Q2', '2017Q2', '2017Q2', '2017Q2',\n",
       "             '2017Q2', '2017Q2', '2017Q2', '2017Q2'],\n",
       "            dtype='period[Q-SEP]', name='date', length=425, freq='Q-SEP')"
      ]
     },
     "execution_count": 89,
     "metadata": {},
     "output_type": "execute_result"
    }
   ],
   "source": [
    "df_period.index.asfreq('Q-SEP')"
   ]
  },
  {
   "cell_type": "code",
   "execution_count": 90,
   "metadata": {},
   "outputs": [
    {
     "data": {
      "text/plain": [
       "PeriodIndex(['2013-10', '2013-10', '2013-10', '2013-10', '2013-11', '2013-11',\n",
       "             '2013-11', '2013-11', '2013-11', '2013-11',\n",
       "             ...\n",
       "             '2017-01', '2017-01', '2017-01', '2017-01', '2017-01', '2017-01',\n",
       "             '2017-01', '2017-02', '2017-02', '2017-02'],\n",
       "            dtype='period[M]', name='date', length=425, freq='M')"
      ]
     },
     "execution_count": 90,
     "metadata": {},
     "output_type": "execute_result"
    }
   ],
   "source": [
    "df_period.index.asfreq('M')"
   ]
  },
  {
   "cell_type": "code",
   "execution_count": 91,
   "metadata": {},
   "outputs": [
    {
     "data": {
      "text/plain": [
       "PeriodIndex(['2013-10-01', '2013-10-01', '2013-10-01', '2013-10-01',\n",
       "             '2013-11-01', '2013-11-01', '2013-11-01', '2013-11-01',\n",
       "             '2013-11-01', '2013-11-01',\n",
       "             ...\n",
       "             '2017-01-02', '2017-01-02', '2017-01-02', '2017-01-02',\n",
       "             '2017-01-02', '2017-01-02', '2017-01-02', '2017-02-01',\n",
       "             '2017-02-01', '2017-02-01'],\n",
       "            dtype='period[B]', name='date', length=425, freq='B')"
      ]
     },
     "execution_count": 91,
     "metadata": {},
     "output_type": "execute_result"
    }
   ],
   "source": [
    "df_period.index.asfreq('B', how='start')"
   ]
  },
  {
   "cell_type": "code",
   "execution_count": 92,
   "metadata": {},
   "outputs": [
    {
     "data": {
      "text/plain": [
       "PeriodIndex(['2013-10-31', '2013-10-31', '2013-10-31', '2013-10-31',\n",
       "             '2013-11-29', '2013-11-29', '2013-11-29', '2013-11-29',\n",
       "             '2013-11-29', '2013-11-29',\n",
       "             ...\n",
       "             '2017-01-31', '2017-01-31', '2017-01-31', '2017-01-31',\n",
       "             '2017-01-31', '2017-01-31', '2017-01-31', '2017-02-28',\n",
       "             '2017-02-28', '2017-02-28'],\n",
       "            dtype='period[B]', name='date', length=425, freq='B')"
      ]
     },
     "execution_count": 92,
     "metadata": {},
     "output_type": "execute_result"
    }
   ],
   "source": [
    "df_period.index.asfreq('B', how='end')"
   ]
  },
  {
   "cell_type": "code",
   "execution_count": 97,
   "metadata": {},
   "outputs": [
    {
     "name": "stdout",
     "output_type": "stream",
     "text": [
      "            number\n",
      "date              \n",
      "2013-10-27       7\n",
      "2013-11-03       3\n",
      "2013-11-10       5\n",
      "2013-11-17       7\n",
      "2013-11-24       0\n"
     ]
    }
   ],
   "source": [
    "print(df.resample('W').sum().head())"
   ]
  },
  {
   "cell_type": "code",
   "execution_count": 99,
   "metadata": {},
   "outputs": [
    {
     "name": "stdout",
     "output_type": "stream",
     "text": [
      "            number\n",
      "date              \n",
      "2013-10-31      10\n",
      "2013-11-30      14\n",
      "2013-12-31      27\n",
      "2014-01-31      16\n",
      "2014-02-28       4\n"
     ]
    }
   ],
   "source": [
    "print(df.resample('M').sum().head())"
   ]
  },
  {
   "cell_type": "code",
   "execution_count": 100,
   "metadata": {},
   "outputs": [
    {
     "name": "stdout",
     "output_type": "stream",
     "text": [
      "            number\n",
      "date              \n",
      "2013-12-31      51\n",
      "2014-03-31      73\n",
      "2014-06-30      96\n",
      "2014-09-30     136\n",
      "2014-12-31     148\n"
     ]
    }
   ],
   "source": [
    "print(df.resample('Q').sum().head())"
   ]
  },
  {
   "cell_type": "code",
   "execution_count": 110,
   "metadata": {},
   "outputs": [
    {
     "name": "stdout",
     "output_type": "stream",
     "text": [
      "            number\n",
      "date              \n",
      "2013-12-31      51\n",
      "2014-12-31     453\n",
      "2015-12-31     743\n",
      "2016-12-31    1552\n",
      "2017-12-31      92\n"
     ]
    }
   ],
   "source": [
    "print(df.resample('AS').sum().head())"
   ]
  },
  {
   "cell_type": "code",
   "execution_count": 112,
   "metadata": {},
   "outputs": [
    {
     "name": "stdout",
     "output_type": "stream",
     "text": [
      "      number\n",
      "date        \n",
      "2013      51\n",
      "2014     453\n",
      "2015     743\n",
      "2016    1552\n",
      "2017      92\n"
     ]
    }
   ],
   "source": [
    "print(df.resample('AS').sum().to_period('A'))"
   ]
  },
  {
   "cell_type": "code",
   "execution_count": 114,
   "metadata": {},
   "outputs": [
    {
     "name": "stdout",
     "output_type": "stream",
     "text": [
      "        number\n",
      "date          \n",
      "2013Q4      51\n",
      "2014Q1      73\n",
      "2014Q2      96\n",
      "2014Q3     136\n",
      "2014Q4     148\n"
     ]
    }
   ],
   "source": [
    "print(df.resample('Q').sum().to_period('A').head())"
   ]
  },
  {
   "cell_type": "code",
   "execution_count": 117,
   "metadata": {},
   "outputs": [
    {
     "name": "stdout",
     "output_type": "stream",
     "text": [
      "      number\n",
      "date        \n",
      "2013      10\n",
      "2013      14\n",
      "2013      27\n",
      "2014      16\n",
      "2014       4\n"
     ]
    }
   ],
   "source": [
    "print(df.resample('M').sum().to_period('A').head())"
   ]
  }
 ],
 "metadata": {
  "kernelspec": {
   "display_name": "Python 3",
   "language": "python",
   "name": "python3"
  },
  "language_info": {
   "codemirror_mode": {
    "name": "ipython",
    "version": 3
   },
   "file_extension": ".py",
   "mimetype": "text/x-python",
   "name": "python",
   "nbconvert_exporter": "python",
   "pygments_lexer": "ipython3",
   "version": "3.8.2"
  }
 },
 "nbformat": 4,
 "nbformat_minor": 4
}
